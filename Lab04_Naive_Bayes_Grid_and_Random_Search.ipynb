{
  "cells": [
    {
      "cell_type": "markdown",
      "metadata": {
        "id": "view-in-github",
        "colab_type": "text"
      },
      "source": [
        "<a href=\"https://colab.research.google.com/github/Ellinei/229352-StatisticalLearning/blob/main/Lab04_Naive_Bayes_Grid_and_Random_Search.ipynb\" target=\"_parent\"><img src=\"https://colab.research.google.com/assets/colab-badge.svg\" alt=\"Open In Colab\"/></a>"
      ]
    },
    {
      "cell_type": "markdown",
      "id": "e9252fd0-8fb3-4237-a32c-d2ae904aeba1",
      "metadata": {
        "id": "e9252fd0-8fb3-4237-a32c-d2ae904aeba1"
      },
      "source": [
        "### Statistical Learning for Data Science 2 (229352)\n",
        "#### Instructor: Donlapark Ponnoprat\n",
        "\n",
        "#### [Course website](https://donlapark.pages.dev/229352/)\n",
        "\n",
        "## Lab #4"
      ]
    },
    {
      "cell_type": "code",
      "execution_count": null,
      "id": "70b30d42-2935-4d97-afb4-51b444e01360",
      "metadata": {
        "id": "70b30d42-2935-4d97-afb4-51b444e01360"
      },
      "outputs": [],
      "source": [
        "from sklearn.datasets import fetch_20newsgroups\n",
        "from sklearn.feature_extraction.text import TfidfVectorizer\n",
        "from sklearn.metrics import classification_report\n",
        "from sklearn.model_selection import GridSearchCV, RandomizedSearchCV\n",
        "\n",
        "from sklearn.naive_bayes import MultinomialNB\n",
        "from sklearn.pipeline import Pipeline\n",
        "\n",
        "from scipy.stats import uniform"
      ]
    },
    {
      "cell_type": "code",
      "execution_count": null,
      "id": "b4116b7d-ca3e-4e82-8452-ec6b220bb328",
      "metadata": {
        "id": "b4116b7d-ca3e-4e82-8452-ec6b220bb328"
      },
      "outputs": [],
      "source": [
        "train = fetch_20newsgroups(subset='train')\n",
        "test = fetch_20newsgroups(subset='test')\n",
        "\n",
        "Xtrain = train.data[:3000]\n",
        "ytrain = train.target[:3000]\n",
        "Xtest = test.data[:500]\n",
        "ytest = test.target[:500]\n",
        "\n",
        "print(\"X:\", len(Xtest))\n",
        "print(\"y:\", len(ytest))"
      ]
    },
    {
      "cell_type": "markdown",
      "id": "452ca0da-2658-4daa-85be-d42ea298fe07",
      "metadata": {
        "id": "452ca0da-2658-4daa-85be-d42ea298fe07"
      },
      "source": [
        "### Naive Bayes [(Documentation)](https://scikit-learn.org/stable/modules/generated/sklearn.naive_bayes.MultinomialNB.html)"
      ]
    },
    {
      "cell_type": "code",
      "execution_count": null,
      "id": "1a2cb016-1e96-44e8-8c64-823ad825afd9",
      "metadata": {
        "id": "1a2cb016-1e96-44e8-8c64-823ad825afd9"
      },
      "outputs": [],
      "source": [
        "n = Pipeline([\n",
        "    ('vect', TfidfVectorizer()),\n",
        "    ('clf', MultinomialNB()),\n",
        "])\n",
        "\n",
        "n.fit(Xtrain, ytrain)"
      ]
    },
    {
      "cell_type": "markdown",
      "id": "90fe0d6a-bb47-40ba-8660-c1af8f35eeb9",
      "metadata": {
        "id": "90fe0d6a-bb47-40ba-8660-c1af8f35eeb9"
      },
      "source": [
        "### Random Search Cross-Validation [(Documentation)](https://scikit-learn.org/stable/modules/generated/sklearn.model_selection.RandomizedSearchCV.html)\n",
        "\n",
        "### Uniform distribution in `Scipy` [(Documentation)](https://docs.scipy.org/doc/scipy/reference/generated/scipy.stats.uniform.html)"
      ]
    },
    {
      "cell_type": "code",
      "execution_count": null,
      "id": "73f44229-8e90-40ad-b1e7-827597dba207",
      "metadata": {
        "id": "73f44229-8e90-40ad-b1e7-827597dba207"
      },
      "outputs": [],
      "source": [
        "uniform_dist = uniform(loc=0, scale=1)\n",
        "\n",
        "samples = uniform_dist.rvs(size=10, random_state=42)\n",
        "print(\"Random samples from uniform distribution:\", samples)"
      ]
    },
    {
      "cell_type": "markdown",
      "id": "74f7ad65-0b56-4987-9493-c5f06a7f481b",
      "metadata": {
        "id": "74f7ad65-0b56-4987-9493-c5f06a7f481b"
      },
      "source": [
        "#### Exercise\n",
        "\n",
        "1. For the Naive Bayes model, use grid search 5-fold cross-validation across different values of `alpha` to find the best model.\n",
        "\n",
        "2. For the best value of `alpha`, compute the `f1_macro` score on the test set.\n",
        "* What value of `alpha` did you obtain?\n",
        "* What is the model's `f1_macro` score?\n",
        "\n",
        "3. Repeat Exercise 1 and 2 for **random search** 5-fold cross validation across different values of `alpha`. Compute the `f1_macro` score on the test set.\n",
        "* What value of `alpha` did you obtain?\n",
        "* Did you get a better `f1_macro` score compared to grid search in Exercise 2?"
      ]
    },
    {
      "cell_type": "markdown",
      "metadata": {
        "id": "cadfdd93"
      },
      "source": [
        "Grid Search Cross-Validation"
      ],
      "id": "cadfdd93"
    },
    {
      "cell_type": "code",
      "metadata": {
        "id": "c20d6be1"
      },
      "source": [
        "param_grid = {'clf__alpha': [1e-5, 1e-4, 1e-3, 1e-2, 1e-1, 1, 10]}\n",
        "\n",
        "grid_search = GridSearchCV(n, param_grid, cv=5, scoring='f1_macro')\n",
        "\n",
        "grid_search.fit(Xtrain, ytrain)\n",
        "\n",
        "print(\"Best parameters (Grid Search):\", grid_search.best_params_)\n",
        "print(\"Best f1_macro score (Grid Search):\", grid_search.best_score_)"
      ],
      "id": "c20d6be1",
      "execution_count": null,
      "outputs": []
    },
    {
      "cell_type": "markdown",
      "metadata": {
        "id": "0f9b8a8a"
      },
      "source": [
        "Evaluate Grid Search Best Model on Test Set"
      ],
      "id": "0f9b8a8a"
    },
    {
      "cell_type": "code",
      "metadata": {
        "id": "0fd25ae4"
      },
      "source": [
        "best_grid_model = grid_search.best_estimator_\n",
        "\n",
        "y_pred_grid = best_grid_model.predict(Xtest)\n",
        "\n",
        "f1_macro_grid = classification_report(ytest, y_pred_grid, output_dict=True)['macro avg']['f1-score']\n",
        "print(\"f1_macro score on test set (Grid Search):\", f1_macro_grid)\n",
        "\n",
        "print(\"Best alpha value (Grid Search):\", grid_search.best_params_['clf__alpha'])"
      ],
      "id": "0fd25ae4",
      "execution_count": null,
      "outputs": []
    },
    {
      "cell_type": "markdown",
      "metadata": {
        "id": "e4b26f1a"
      },
      "source": [
        "Random Search Cross-Validation and Evaluation"
      ],
      "id": "e4b26f1a"
    },
    {
      "cell_type": "code",
      "metadata": {
        "id": "bfd45411"
      },
      "source": [
        "param_dist = {'clf__alpha': uniform(loc=0, scale=1)}\n",
        "\n",
        "random_search = RandomizedSearchCV(n, param_dist, n_iter=10, cv=5, scoring='f1_macro', random_state=42)\n",
        "\n",
        "random_search.fit(Xtrain, ytrain)\n",
        "\n",
        "print(\"Best parameters (Random Search):\", random_search.best_params_)\n",
        "print(\"Best f1_macro score (Random Search):\", random_search.best_score_)\n",
        "\n",
        "best_random_model = random_search.best_estimator_\n",
        "\n",
        "y_pred_random = best_random_model.predict(Xtest)\n",
        "\n",
        "f1_macro_random = classification_report(ytest, y_pred_random, output_dict=True)['macro avg']['f1-score']\n",
        "print(\"f1_macro score on test set (Random Search):\", f1_macro_random)\n",
        "\n",
        "print(\"Best alpha value (Random Search):\", random_search.best_params_['clf__alpha'])\n",
        "\n",
        "print(\"\\nComparison:\")\n",
        "print(f\"Grid Search f1_macro on test set: {f1_macro_grid}\")\n",
        "print(f\"Random Search f1_macro on test set: {f1_macro_random}\")"
      ],
      "id": "bfd45411",
      "execution_count": null,
      "outputs": []
    }
  ],
  "metadata": {
    "kernelspec": {
      "display_name": "Python 3 (ipykernel)",
      "language": "python",
      "name": "python3"
    },
    "language_info": {
      "codemirror_mode": {
        "name": "ipython",
        "version": 3
      },
      "file_extension": ".py",
      "mimetype": "text/x-python",
      "name": "python",
      "nbconvert_exporter": "python",
      "pygments_lexer": "ipython3",
      "version": "3.10.12"
    },
    "colab": {
      "provenance": [],
      "include_colab_link": true
    }
  },
  "nbformat": 4,
  "nbformat_minor": 5
}