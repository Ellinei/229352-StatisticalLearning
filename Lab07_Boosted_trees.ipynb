{
  "cells": [
    {
      "cell_type": "markdown",
      "metadata": {
        "id": "view-in-github",
        "colab_type": "text"
      },
      "source": [
        "<a href=\"https://colab.research.google.com/github/Ellinei/229352-StatisticalLearning/blob/main/Lab07_Boosted_trees.ipynb\" target=\"_parent\"><img src=\"https://colab.research.google.com/assets/colab-badge.svg\" alt=\"Open In Colab\"/></a>"
      ]
    },
    {
      "cell_type": "markdown",
      "id": "d59e5148-ca0d-4b24-852f-bdd61722d236",
      "metadata": {
        "id": "d59e5148-ca0d-4b24-852f-bdd61722d236"
      },
      "source": [
        "### Statistical Learning for Data Science 2 (229352)\n",
        "#### Instructor: Donlapark Ponnoprat\n",
        "\n",
        "#### [Course website](https://donlapark.pages.dev/229352/)\n",
        "\n",
        "## Lab #6"
      ]
    },
    {
      "cell_type": "markdown",
      "id": "575620de-7160-4790-bfd3-436022dd81c3",
      "metadata": {
        "id": "575620de-7160-4790-bfd3-436022dd81c3"
      },
      "source": [
        "## Boosted tree models on a simulated dataset"
      ]
    },
    {
      "cell_type": "markdown",
      "id": "84469bfa-1347-413a-bbe5-d9a833ef44a0",
      "metadata": {
        "id": "84469bfa-1347-413a-bbe5-d9a833ef44a0"
      },
      "source": [
        "- [AdaBoostClassifier documentation](https://scikit-learn.org/stable/modules/generated/sklearn.ensemble.AdaBoostClassifier.html#sklearn-ensemble-adaboostclassifier)\n",
        "- [XGBClassifier documentation](https://xgboost.readthedocs.io/en/stable/python/python_api.html#xgboost.XGBClassifier)\n",
        "- [LGBMClassifier documentation](https://lightgbm.readthedocs.io/en/latest/pythonapi/lightgbm.LGBMClassifier.html#lightgbm-lgbmclassifier)\n",
        "- [GridSeachCV documentation](https://scikit-learn.org/stable/modules/generated/sklearn.model_selection.GridSearchCV.html)\n",
        "\n",
        "\n",
        "- [Data](https://github.com/donlapark/ds352-labs/raw/main/Lab06-data.zip)\n"
      ]
    },
    {
      "cell_type": "markdown",
      "id": "5af19014-2d32-4897-90fd-2dd107ed0d79",
      "metadata": {
        "id": "5af19014-2d32-4897-90fd-2dd107ed0d79"
      },
      "source": [
        "Perform GridSearchCV of the following three models on the provided training set (`X_train.csv` and `y_train.csv`)\n",
        "\n",
        "1. Evaluate these models on the test set (`X_test.csv` and `y_test.csv`).\n",
        "\n",
        "2. For each model, plot the feature importances\n",
        "\n",
        "For `AdaBoostClassifier`, feature importances can be obtained by calling the `feature_importances` attribute after fitting the model.\n",
        "\n",
        "For `XGBClassifier` and `LGBMClassifier`, feature importances can be obtained using the library’s `plot_importance` function. Here is a minimal example in XGBoost:\n",
        "\n",
        "- AdaBoost. Grid search over `n_estimators` and `learning_rate`.\n",
        "- XGBoost. Grid search over `n_estimators`, `max_depth` and `learning_rate`.\n",
        "- LightGBM. Grid search over `n_estimators`, `max_depth` and `learning_rate`."
      ]
    },
    {
      "cell_type": "code",
      "source": [
        "from xgboost import plot_importance\n",
        "import matplotlib.pyplot as plt\n",
        "from sklearn.model_selection import GridSearchCV\n",
        "from sklearn.metrics import accuracy_score\n",
        "from sklearn.ensemble import AdaBoostClassifier\n",
        "from lightgbm import LGBMClassifier\n",
        "from lightgbm import plot_importance"
      ],
      "metadata": {
        "id": "XSNZva23Cu58"
      },
      "id": "XSNZva23Cu58",
      "execution_count": null,
      "outputs": []
    },
    {
      "cell_type": "code",
      "execution_count": null,
      "id": "997befe6-4a34-454e-8f8e-2ac646ce92c5",
      "metadata": {
        "id": "997befe6-4a34-454e-8f8e-2ac646ce92c5"
      },
      "outputs": [],
      "source": [
        "from xgboost import XGBClassifier, plot_importance\n",
        "\n",
        "from sklearn import datasets\n",
        "\n",
        "\n",
        "iris = datasets.load_iris()\n",
        "X = iris.data\n",
        "y = iris.target\n",
        "\n",
        "model = XGBClassifier()\n",
        "model.fit(X, y)\n",
        "plot_importance(model);"
      ]
    },
    {
      "cell_type": "code",
      "execution_count": null,
      "id": "66ac700c-08b7-4eda-819c-f5892341d581",
      "metadata": {
        "id": "66ac700c-08b7-4eda-819c-f5892341d581"
      },
      "outputs": [],
      "source": [
        "from xgboost import plot_tree\n",
        "\n",
        "plot_tree(model, num_trees=1);"
      ]
    },
    {
      "cell_type": "code",
      "execution_count": null,
      "id": "5076897a-065b-4c7e-a3a3-61b846acce2d",
      "metadata": {
        "id": "5076897a-065b-4c7e-a3a3-61b846acce2d"
      },
      "outputs": [],
      "source": [
        "import pandas as pd\n",
        "\n",
        "data = pd.read_csv('X_train.csv', header=None)\n",
        "\n",
        "\n",
        "data"
      ]
    },
    {
      "cell_type": "code",
      "execution_count": null,
      "id": "de297d6a-f85c-4971-95e7-3e42893160cf",
      "metadata": {
        "id": "de297d6a-f85c-4971-95e7-3e42893160cf"
      },
      "outputs": [],
      "source": [
        "import numpy as np\n",
        "\n",
        "data = np.genfromtxt(\"X_train.csv\", delimiter=\",\")\n",
        "\n",
        "data"
      ]
    },
    {
      "cell_type": "code",
      "metadata": {
        "id": "d2ec2576"
      },
      "source": [
        "X_train = pd.read_csv('X_train.csv', header=None)\n",
        "y_train = pd.read_csv('y_train.csv', header=None).values.ravel()\n",
        "\n",
        "param_grid_ada = {\n",
        "    'n_estimators': [50, 100, 200],\n",
        "    'learning_rate': [0.01, 0.1, 1.0]\n",
        "}\n",
        "\n",
        "grid_search_ada = GridSearchCV(AdaBoostClassifier(), param_grid_ada, cv=5)\n",
        "\n",
        "grid_search_ada.fit(X_train, y_train)\n",
        "\n",
        "print(\"Best parameters for AdaBoost:\", grid_search_ada.best_params_)\n",
        "print(\"Best cross-validation score for AdaBoost:\", grid_search_ada.best_score_)"
      ],
      "id": "d2ec2576",
      "execution_count": null,
      "outputs": []
    },
    {
      "cell_type": "code",
      "metadata": {
        "id": "3b84a812"
      },
      "source": [
        "X_test = pd.read_csv('X_test.csv', header=None)\n",
        "y_test = pd.read_csv('y_test.csv', header=None).values.ravel()\n",
        "\n",
        "best_ada_model = grid_search_ada.best_estimator_\n",
        "y_pred_ada = best_ada_model.predict(X_test)\n",
        "accuracy_ada = accuracy_score(y_test, y_pred_ada)\n",
        "print(\"AdaBoost Test Accuracy:\", accuracy_ada)\n",
        "\n",
        "feature_importances_ada = best_ada_model.feature_importances_\n",
        "plt.figure(figsize=(10, 6))\n",
        "plt.bar(range(len(feature_importances_ada)), feature_importances_ada)\n",
        "plt.xticks(range(len(feature_importances_ada)), [f'Feature {i}' for i in range(len(feature_importances_ada))], rotation=90)\n",
        "plt.xlabel(\"Feature\")\n",
        "plt.ylabel(\"Importance\")\n",
        "plt.title(\"AdaBoost Feature Importances\")\n",
        "plt.tight_layout()\n",
        "plt.show()"
      ],
      "id": "3b84a812",
      "execution_count": null,
      "outputs": []
    },
    {
      "cell_type": "code",
      "metadata": {
        "id": "f0603b3f"
      },
      "source": [
        "param_grid_xgb = {\n",
        "    'n_estimators': [50, 100, 200],\n",
        "    'max_depth': [3, 5, 7],\n",
        "    'learning_rate': [0.01, 0.1, 1.0]\n",
        "}\n",
        "\n",
        "grid_search_xgb = GridSearchCV(XGBClassifier(), param_grid_xgb, cv=5)\n",
        "\n",
        "grid_search_xgb.fit(X_train, y_train)\n",
        "\n",
        "print(\"Best parameters for XGBoost:\", grid_search_xgb.best_params_)\n",
        "print(\"Best cross-validation score for XGBoost:\", grid_search_xgb.best_score_)"
      ],
      "id": "f0603b3f",
      "execution_count": null,
      "outputs": []
    },
    {
      "cell_type": "code",
      "source": [
        "best_xgb_model = grid_search_xgb.best_estimator_\n",
        "y_pred_xgb = best_xgb_model.predict(X_test)\n",
        "accuracy_xgb = accuracy_score(y_test, y_pred_xgb)\n",
        "print(\"XGBoost Test Accuracy:\", accuracy_xgb)\n",
        "\n",
        "plt.figure(figsize=(10, 6))\n",
        "plot_importance(best_xgb_model, ax=plt.gca())\n",
        "plt.title(\"XGBoost Feature Importances\")\n",
        "plt.tight_layout()\n",
        "plt.show()"
      ],
      "metadata": {
        "id": "BzhiqbRYAZvW"
      },
      "id": "BzhiqbRYAZvW",
      "execution_count": null,
      "outputs": []
    },
    {
      "cell_type": "code",
      "metadata": {
        "collapsed": true,
        "id": "0d5baa79"
      },
      "source": [
        "param_grid_lgbm = {\n",
        "    'n_estimators': [50, 100, 200],\n",
        "    'max_depth': [3, 5, 7],\n",
        "    'learning_rate': [0.01, 0.1, 1.0]\n",
        "}\n",
        "\n",
        "grid_search_lgbm = GridSearchCV(LGBMClassifier(), param_grid_lgbm, cv=5)\n",
        "\n",
        "grid_search_lgbm.fit(X_train, y_train)\n",
        "\n",
        "print(\"Best parameters for LightGBM:\", grid_search_lgbm.best_params_)\n",
        "print(\"Best cross-validation score for LightGBM:\", grid_search_lgbm.best_score_)"
      ],
      "id": "0d5baa79",
      "execution_count": null,
      "outputs": []
    },
    {
      "cell_type": "code",
      "metadata": {
        "id": "f2d04e12"
      },
      "source": [
        "from lightgbm import plot_importance\n",
        "\n",
        "best_lgbm_model = grid_search_lgbm.best_estimator_\n",
        "y_pred_lgbm = best_lgbm_model.predict(X_test)\n",
        "accuracy_lgbm = accuracy_score(y_test, y_pred_lgbm)\n",
        "print(\"LightGBM Test Accuracy:\", accuracy_lgbm)\n",
        "\n",
        "plt.figure(figsize=(10, 6))\n",
        "plot_importance(best_lgbm_model, ax=plt.gca())\n",
        "plt.title(\"LightGBM Feature Importances\")\n",
        "plt.tight_layout()\n",
        "plt.show()"
      ],
      "id": "f2d04e12",
      "execution_count": null,
      "outputs": []
    }
  ],
  "metadata": {
    "kernelspec": {
      "display_name": "Python 3 (ipykernel)",
      "language": "python",
      "name": "python3"
    },
    "language_info": {
      "codemirror_mode": {
        "name": "ipython",
        "version": 3
      },
      "file_extension": ".py",
      "mimetype": "text/x-python",
      "name": "python",
      "nbconvert_exporter": "python",
      "pygments_lexer": "ipython3",
      "version": "3.10.12"
    },
    "colab": {
      "provenance": [],
      "include_colab_link": true
    }
  },
  "nbformat": 4,
  "nbformat_minor": 5
}